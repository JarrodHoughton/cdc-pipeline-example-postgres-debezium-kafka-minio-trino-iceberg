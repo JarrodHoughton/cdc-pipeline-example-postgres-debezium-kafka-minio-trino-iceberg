{
 "cells": [
  {
   "cell_type": "code",
   "execution_count": null,
   "metadata": {},
   "outputs": [],
   "source": [
    "from faker import Faker\n",
    "import faker.providers.date_time as fake_date_time\n",
    "\n",
    "fake = Faker()\n",
    "\n",
    "first_name = fake.first_name()\n",
    "last_name = fake.last_name()\n",
    "email = f\"{first_name.lower()}.{last_name.lower()}@example.com\"\n",
    "birth_date = fake.date_between('-80y', '-18y')\n",
    "\n",
    "record = f\"({first_name}, {last_name}, {email}, {birth_date})\"\n",
    "\n",
    "print(record)"
   ]
  },
  {
   "cell_type": "markdown",
   "metadata": {},
   "source": [
    "# Connect to PostgreSQL Database"
   ]
  },
  {
   "cell_type": "code",
   "execution_count": null,
   "metadata": {},
   "outputs": [],
   "source": [
    "from sqlalchemy import create_engine\n",
    "import pandas as pd\n",
    "import os\n",
    "import time\n",
    "\n",
    "pg_pwd = 'password'\n",
    "pg_user = 'postgres'\n",
    "server = 'localhost'\n",
    "port = '5432'\n",
    "db = 'source_db'\n",
    "\n",
    "engine = create_engine(f'postgresql://{pg_user}:{pg_pwd}@{server}:{port}/{db}')"
   ]
  },
  {
   "cell_type": "markdown",
   "metadata": {},
   "source": [
    "# Generate User Records"
   ]
  },
  {
   "cell_type": "code",
   "execution_count": null,
   "metadata": {},
   "outputs": [],
   "source": [
    "from faker import Faker\n",
    "import faker.providers.date_time as fake_date_time\n",
    "\n",
    "fake = Faker()\n",
    "\n",
    "columns = ['first_name', 'last_name', 'email', 'date_of_birth']\n",
    "\n",
    "def generate_user():\n",
    "    return {\n",
    "        'first_name': fake.first_name(),\n",
    "        'last_name': fake.last_name(),\n",
    "        'email': fake.email(),\n",
    "        'date_of_birth': fake.date_between('-80y', '-18y')\n",
    "    }\n",
    "\n",
    "def generate_users(n):\n",
    "    return [generate_user() for _ in range(n)]"
   ]
  },
  {
   "cell_type": "code",
   "execution_count": null,
   "metadata": {},
   "outputs": [],
   "source": [
    "new_users = pd.DataFrame(generate_users(10), columns=columns)\n",
    "new_users"
   ]
  },
  {
   "cell_type": "markdown",
   "metadata": {},
   "source": [
    "# Insert New Users into Postgres DB"
   ]
  },
  {
   "cell_type": "code",
   "execution_count": null,
   "metadata": {},
   "outputs": [],
   "source": [
    "import time\n",
    "for i in range(10):\n",
    "    new_users = pd.DataFrame(generate_users(10), columns=columns)\n",
    "    new_users\n",
    "\n",
    "    new_users.to_sql(\n",
    "        name=\"users\",\n",
    "        con=engine,\n",
    "        if_exists=\"append\",\n",
    "        index=False,\n",
    "    )\n",
    "\n",
    "    print(f\"Inserted: {len(new_users)} rows. Users table updated successfully.\")\n",
    "    time.sleep(1)"
   ]
  }
 ],
 "metadata": {
  "kernelspec": {
   "display_name": ".venv",
   "language": "python",
   "name": "python3"
  },
  "language_info": {
   "codemirror_mode": {
    "name": "ipython",
    "version": 3
   },
   "file_extension": ".py",
   "mimetype": "text/x-python",
   "name": "python",
   "nbconvert_exporter": "python",
   "pygments_lexer": "ipython3",
   "version": "3.12.4"
  }
 },
 "nbformat": 4,
 "nbformat_minor": 2
}
