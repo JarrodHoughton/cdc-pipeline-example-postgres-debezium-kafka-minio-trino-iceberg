{
 "cells": [
  {
   "cell_type": "code",
   "execution_count": 6,
   "metadata": {},
   "outputs": [
    {
     "name": "stdout",
     "output_type": "stream",
     "text": [
      "(Jason, Smith, jason.smith@example.com, 1995-05-23)\n"
     ]
    }
   ],
   "source": [
    "from faker import Faker\n",
    "import faker.providers.date_time as fake_date_time\n",
    "\n",
    "fake = Faker()\n",
    "\n",
    "first_name = fake.first_name()\n",
    "last_name = fake.last_name()\n",
    "email = f\"{first_name.lower()}.{last_name.lower()}@example.com\"\n",
    "birth_date = fake.date_between('-80y', '-18y')\n",
    "\n",
    "record = f\"({first_name}, {last_name}, {email}, {birth_date})\"\n",
    "\n",
    "print(record)"
   ]
  },
  {
   "cell_type": "code",
   "execution_count": null,
   "metadata": {},
   "outputs": [],
   "source": []
  }
 ],
 "metadata": {
  "kernelspec": {
   "display_name": ".venv",
   "language": "python",
   "name": "python3"
  },
  "language_info": {
   "codemirror_mode": {
    "name": "ipython",
    "version": 3
   },
   "file_extension": ".py",
   "mimetype": "text/x-python",
   "name": "python",
   "nbconvert_exporter": "python",
   "pygments_lexer": "ipython3",
   "version": "3.12.4"
  }
 },
 "nbformat": 4,
 "nbformat_minor": 2
}
