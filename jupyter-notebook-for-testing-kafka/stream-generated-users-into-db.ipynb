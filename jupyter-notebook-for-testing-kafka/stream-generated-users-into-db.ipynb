{
 "cells": [
  {
   "cell_type": "code",
   "execution_count": 1,
   "metadata": {},
   "outputs": [
    {
     "name": "stdout",
     "output_type": "stream",
     "text": [
      "(Susan, Booth, susan.booth@example.com, 1990-07-03)\n"
     ]
    }
   ],
   "source": [
    "from faker import Faker\n",
    "import faker.providers.date_time as fake_date_time\n",
    "\n",
    "fake = Faker()\n",
    "\n",
    "first_name = fake.first_name()\n",
    "last_name = fake.last_name()\n",
    "email = f\"{first_name.lower()}.{last_name.lower()}@example.com\"\n",
    "birth_date = fake.date_between('-80y', '-18y')\n",
    "\n",
    "record = f\"({first_name}, {last_name}, {email}, {birth_date})\"\n",
    "\n",
    "print(record)"
   ]
  },
  {
   "cell_type": "markdown",
   "metadata": {},
   "source": [
    "# Connect to PostgreSQL Database"
   ]
  },
  {
   "cell_type": "code",
   "execution_count": 2,
   "metadata": {},
   "outputs": [],
   "source": [
    "from sqlalchemy import create_engine\n",
    "import pandas as pd\n",
    "import os\n",
    "import time\n",
    "\n",
    "pg_pwd = 'password'\n",
    "pg_user = 'postgres'\n",
    "server = 'localhost'\n",
    "port = '5432'\n",
    "db = 'source_db'\n",
    "\n",
    "engine = create_engine(f'postgresql://{pg_user}:{pg_pwd}@{server}:{port}/{db}')"
   ]
  },
  {
   "cell_type": "markdown",
   "metadata": {},
   "source": [
    "# Generate User Records"
   ]
  },
  {
   "cell_type": "code",
   "execution_count": 3,
   "metadata": {},
   "outputs": [],
   "source": [
    "from faker import Faker\n",
    "import faker.providers.date_time as fake_date_time\n",
    "\n",
    "fake = Faker()\n",
    "\n",
    "columns = ['first_name', 'last_name', 'email', 'date_of_birth']\n",
    "\n",
    "def generate_user():\n",
    "    return {\n",
    "        'first_name': fake.first_name(),\n",
    "        'last_name': fake.last_name(),\n",
    "        'email': fake.email(),\n",
    "        'date_of_birth': fake.date_between('-80y', '-18y')\n",
    "    }\n",
    "\n",
    "def generate_users(n):\n",
    "    return [generate_user() for _ in range(n)]"
   ]
  },
  {
   "cell_type": "code",
   "execution_count": 4,
   "metadata": {},
   "outputs": [
    {
     "data": {
      "text/html": [
       "<div>\n",
       "<style scoped>\n",
       "    .dataframe tbody tr th:only-of-type {\n",
       "        vertical-align: middle;\n",
       "    }\n",
       "\n",
       "    .dataframe tbody tr th {\n",
       "        vertical-align: top;\n",
       "    }\n",
       "\n",
       "    .dataframe thead th {\n",
       "        text-align: right;\n",
       "    }\n",
       "</style>\n",
       "<table border=\"1\" class=\"dataframe\">\n",
       "  <thead>\n",
       "    <tr style=\"text-align: right;\">\n",
       "      <th></th>\n",
       "      <th>first_name</th>\n",
       "      <th>last_name</th>\n",
       "      <th>email</th>\n",
       "      <th>date_of_birth</th>\n",
       "    </tr>\n",
       "  </thead>\n",
       "  <tbody>\n",
       "    <tr>\n",
       "      <th>0</th>\n",
       "      <td>David</td>\n",
       "      <td>Johnson</td>\n",
       "      <td>allensherry@example.org</td>\n",
       "      <td>1961-10-09</td>\n",
       "    </tr>\n",
       "    <tr>\n",
       "      <th>1</th>\n",
       "      <td>Rachel</td>\n",
       "      <td>Webb</td>\n",
       "      <td>kzimmerman@example.net</td>\n",
       "      <td>1999-01-28</td>\n",
       "    </tr>\n",
       "    <tr>\n",
       "      <th>2</th>\n",
       "      <td>Kathleen</td>\n",
       "      <td>Coleman</td>\n",
       "      <td>brandon31@example.org</td>\n",
       "      <td>1955-05-09</td>\n",
       "    </tr>\n",
       "    <tr>\n",
       "      <th>3</th>\n",
       "      <td>Michelle</td>\n",
       "      <td>Craig</td>\n",
       "      <td>hutchinsonglenn@example.org</td>\n",
       "      <td>1949-05-06</td>\n",
       "    </tr>\n",
       "    <tr>\n",
       "      <th>4</th>\n",
       "      <td>Laura</td>\n",
       "      <td>Delgado</td>\n",
       "      <td>joshua30@example.com</td>\n",
       "      <td>1995-05-02</td>\n",
       "    </tr>\n",
       "    <tr>\n",
       "      <th>5</th>\n",
       "      <td>Angela</td>\n",
       "      <td>Jones</td>\n",
       "      <td>matthew21@example.com</td>\n",
       "      <td>1956-08-08</td>\n",
       "    </tr>\n",
       "    <tr>\n",
       "      <th>6</th>\n",
       "      <td>Nicholas</td>\n",
       "      <td>George</td>\n",
       "      <td>kelseymitchell@example.org</td>\n",
       "      <td>1955-04-24</td>\n",
       "    </tr>\n",
       "    <tr>\n",
       "      <th>7</th>\n",
       "      <td>Tyler</td>\n",
       "      <td>Romero</td>\n",
       "      <td>brandon68@example.org</td>\n",
       "      <td>1967-01-21</td>\n",
       "    </tr>\n",
       "    <tr>\n",
       "      <th>8</th>\n",
       "      <td>Cheryl</td>\n",
       "      <td>Cox</td>\n",
       "      <td>lwilliams@example.org</td>\n",
       "      <td>1960-06-02</td>\n",
       "    </tr>\n",
       "    <tr>\n",
       "      <th>9</th>\n",
       "      <td>Theresa</td>\n",
       "      <td>Duncan</td>\n",
       "      <td>kristin26@example.net</td>\n",
       "      <td>1983-03-24</td>\n",
       "    </tr>\n",
       "  </tbody>\n",
       "</table>\n",
       "</div>"
      ],
      "text/plain": [
       "  first_name last_name                        email date_of_birth\n",
       "0      David   Johnson      allensherry@example.org    1961-10-09\n",
       "1     Rachel      Webb       kzimmerman@example.net    1999-01-28\n",
       "2   Kathleen   Coleman        brandon31@example.org    1955-05-09\n",
       "3   Michelle     Craig  hutchinsonglenn@example.org    1949-05-06\n",
       "4      Laura   Delgado         joshua30@example.com    1995-05-02\n",
       "5     Angela     Jones        matthew21@example.com    1956-08-08\n",
       "6   Nicholas    George   kelseymitchell@example.org    1955-04-24\n",
       "7      Tyler    Romero        brandon68@example.org    1967-01-21\n",
       "8     Cheryl       Cox        lwilliams@example.org    1960-06-02\n",
       "9    Theresa    Duncan        kristin26@example.net    1983-03-24"
      ]
     },
     "execution_count": 4,
     "metadata": {},
     "output_type": "execute_result"
    }
   ],
   "source": [
    "new_users = pd.DataFrame(generate_users(10), columns=columns)\n",
    "new_users"
   ]
  },
  {
   "cell_type": "markdown",
   "metadata": {},
   "source": [
    "# Insert New Users into Postgres DB"
   ]
  },
  {
   "cell_type": "code",
   "execution_count": null,
   "metadata": {},
   "outputs": [],
   "source": [
    "# insert new user records into db\n",
    "\n",
    "new_users.to_sql(\n",
    "        name=\"users\",\n",
    "        con=engine,\n",
    "        if_exists=\"append\",\n",
    "        index=False,\n",
    "    )\n",
    "\n",
    "print(f\"Inserted: {len(new_users)} rows. Users table updated successfully.\")"
   ]
  },
  {
   "cell_type": "code",
   "execution_count": null,
   "metadata": {},
   "outputs": [],
   "source": [
    "import time\n",
    "for i in range(10):\n",
    "    new_users = pd.DataFrame(generate_users(10), columns=columns)\n",
    "    new_users\n",
    "\n",
    "    new_users.to_sql(\n",
    "        name=\"users\",\n",
    "        con=engine,\n",
    "        if_exists=\"append\",\n",
    "        index=False,\n",
    "    )\n",
    "\n",
    "    print(f\"Inserted: {len(new_users)} rows. Users table updated successfully.\")\n",
    "    time.sleep(1)"
   ]
  }
 ],
 "metadata": {
  "kernelspec": {
   "display_name": ".venv",
   "language": "python",
   "name": "python3"
  },
  "language_info": {
   "codemirror_mode": {
    "name": "ipython",
    "version": 3
   },
   "file_extension": ".py",
   "mimetype": "text/x-python",
   "name": "python",
   "nbconvert_exporter": "python",
   "pygments_lexer": "ipython3",
   "version": "3.12.4"
  }
 },
 "nbformat": 4,
 "nbformat_minor": 2
}
